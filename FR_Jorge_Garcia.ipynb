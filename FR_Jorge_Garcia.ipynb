{
 "cells": [
  {
   "cell_type": "markdown",
   "metadata": {},
   "source": [
    "## FINAL REPORT (FR) - Recognizing Handwritten Digits"
   ]
  },
  {
   "cell_type": "markdown",
   "metadata": {},
   "source": [
    "For this assignment, I worked with Carlos Valdez.\n",
    "\n",
    "**Abstract**: \n",
    "\n",
    "   The purpose of the exercise was to train a neural network to be able to read an 8 x 8 array representing pixels and their gray scale values for a handwritten digit and recognize the digit. To accomplish this, a genetic algorithm was used with an initial population of 300 or 200 and was ran for 300 generations. To evaluate the individual, a neural network with a hidden layer was used. First, we used a neural network with a hidden layer of 21 nodes, and then we used one with 41 nodes. The input values were the 64 pixel values of the image plus the bias. These values ranged 0 - 16, where zero was white and 16 was black. The neural network had 10 outputs, each corresponding to a certain digit. The output with the highest value corresponded to the digit the neural network recognized. For the neural network with hidden layer of 21 nodes, the best individual had an accuracy of about 44 percent with the training data and 46 percent with the testing data. The bigger neural network was about to reach an accuracy of 33 percent with the training data and 36 percent with the testing data.\n",
    "\n",
    "\n",
    "**Introduction**:\n",
    "\n",
    "  Computer vision is one of the core branches of Computer Science that can be combined with machine learning to achieve amazing results. This project focused on that both of these branches and big picture of this project was to create a neural network to recognize the people in images. Such task would require advanced forms of neural networks, like convolutional neural networks, therefore we focused on a subtask of the project and attempted to tackle the problem of image recognition. The human brain is able to recognize handwritten digits instantly, ”but the difficulty of visual pattern recognition becomes apparent if you attempt to write a computer program to recognize digits” ([1] Michael Nielsen).\n",
    "  To begin, a lot of preprocessed data is needed. If you were to do this manually, sheets of paper could be scanned and then the images would need to go through “normalization” to have a consistent size ([2] Daniel, Fernando, Xulio). To focus on the machine learning aspect, we used a data set similar to MNIST which had 8 x 8 images ready for training and testing. Furthermore, achieving a high recognition rate becomes difficult because handwritten digits vary in size, shape and form. If the digits were printed, it would be a much simpler task. Large convolutional neural networks  and backpropagation are able to achieve 99 percent accuracy while some simpler versions of neural networks can achieve 96 percent. For this project, we were only equipped with simple feed forward neural networks and genetic algorithms for training, so it our results were not expected to be close to those mentioned beforehand. The structure of the paper is:\n",
    "  - The methodology used, which includes genetic algorithms and neural networks.\n",
    "  - Results obtained from two different sized neural networks.\n",
    "  - And finally, the conclusion from our project.\n",
    "\n",
    "\n",
    "**Methodology**:\n",
    "\n",
    "For this project, an evolutionary algorithm was used in conjunction to a feed forward neural network. To create individuals, a list of random values from 0 to 1 was made and the size of the list was based on the size of the neural network. For the neural network with a hidden layer of 21 nodes a list of 1,510 random values was used for the in individual. For the bigger neural network, a list of 3,010 random values was used for the individual. Each generation had 300 or 200 individuals. To evaluate fitness, which represented the accuracy of the individual, the individual was used as the weights in a neural network and the input of neural network was the pixel array in a vectorized form. Each individual was trained with 1500 images and their average accuracy for recognizing the digits was returned as the fitness. To mate cxBlend was used with alpha being 1.0. To mutate mutGaussian was used with mu being 0.0, sigma being 0.2 and indpb being 0.3. Selection was done using selTournament with a tournsize of 3. Finally, this was all ran in DEAP using algoritms.eaSimple with mating probability of .5, a mutation probability of .2 and 300 generations. At the end of training, the best individual was used with some testing data of 200 images to check how well it performed with images that were not used during training.\n",
    "\n",
    "**Results and Discussions**:\n",
    "\n",
    "   Overall, all results in accuracy seemed to be in range from 32 to 46. The best results were achieved from the genetic algorithm with a starting population of 300 individuals that ran for 300 generations and used the neural network with a hidden layer of 21 nodes. The results were 44 percent accuracy in the training data and 46 percent accuracy with the testing data. A similar algorithm with a starting population of 200 individuals was able to achieve 32 percent accuracy while training and 34 percent accuracy with testing. Surprisingly, the larger neural network was not able to achieve better results than the smaller one. The results for the best individual with the neural network with 41 nodes in the hidden layer was 33 percent for training data and 36 for testing data.\n",
    "\n",
    "\n",
    "<img src = \"FRIFinalProjectGraphs.png\">\n",
    "\n",
    "\n",
    "**Conclusions**:\n",
    "\n",
    "   In conclusion, this exercise was focused on creating and training a feedforward neural network to be able to recognize handwritten digits. A dataset with 8 x 8 images of handwritten digits was used for training and testing. To train our neural networks, a genetic algorithm was used. Two different sized neural networks were used, and our the one with a smaller hidden layer (21 nodes) yielding the best results, which was 44 percent for training and 46 for testing. These results are not that great due to the use of feedforward neural networks and genetic algorithms, but we were still able to see improvement in our training. In addition to increasing the size of our hidden layer, we could have also added another hidden layer. To achieve optimal results, the use of a convolutional neural network and backpropagation would be preferred but those tools were not available for this project.\n",
    "\n",
    "\n",
    "**References**:\n",
    "  \n",
    "  [1] Michael Nielsen, “Neural Networks and Deep Learning,” Y Combinator Research, page 1 - 2, 2017\n",
    "\n",
    "  [2] Daniel Cruces Alvarez, Fernando Martin Rodriguez, Xulio Fernandez Hermida, “Printed and Handwritten Digits Recognition Using Neural Networks” Department of Technology of the Communications, University of Vigo, page 1\n",
    "\n",
    "\n",
    "**THANK YOU**"
   ]
  },
  {
   "cell_type": "code",
   "execution_count": null,
   "metadata": {
    "collapsed": true
   },
   "outputs": [],
   "source": []
  }
 ],
 "metadata": {
  "anaconda-cloud": {},
  "kernelspec": {
   "display_name": "Python [default]",
   "language": "python",
   "name": "python2"
  },
  "language_info": {
   "codemirror_mode": {
    "name": "ipython",
    "version": 2
   },
   "file_extension": ".py",
   "mimetype": "text/x-python",
   "name": "python",
   "nbconvert_exporter": "python",
   "pygments_lexer": "ipython2",
   "version": "2.7.12"
  }
 },
 "nbformat": 4,
 "nbformat_minor": 0
}
